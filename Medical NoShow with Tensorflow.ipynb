{
 "cells": [
  {
   "cell_type": "code",
   "execution_count": 1,
   "metadata": {},
   "outputs": [
    {
     "name": "stderr",
     "output_type": "stream",
     "text": [
      "Using TensorFlow backend.\n"
     ]
    }
   ],
   "source": [
    "import tensorflow as tf\n",
    "import pandas as pd\n",
    "from sklearn.preprocessing import LabelEncoder\n",
    "\n",
    "from keras.models import Sequential\n",
    "from keras.initializers import Initializer\n",
    "from keras.layers import Dense\n",
    "from keras.utils import to_categorical\n",
    "from keras.callbacks import Callback\n",
    "from keras import losses"
   ]
  },
  {
   "cell_type": "code",
   "execution_count": 2,
   "metadata": {
    "collapsed": true
   },
   "outputs": [],
   "source": [
    "setwd = 'C:\\\\Users\\\\PraveenPC\\\\Desktop\\\\Zekelabs\\\\Projects\\\\Medical NoShow\\\\'\n",
    "rawfile = pd.read_csv(setwd + 'train_c3YdOHQ.csv')"
   ]
  },
  {
   "cell_type": "code",
   "execution_count": 3,
   "metadata": {
    "collapsed": true
   },
   "outputs": [],
   "source": [
    "feature_cols = list(set(rawfile.columns) - set(['PatientId','AppointmentID','Neighbourhood','ScheduledDay','AppointmentDay','No_show']))"
   ]
  },
  {
   "cell_type": "code",
   "execution_count": 4,
   "metadata": {
    "collapsed": true
   },
   "outputs": [],
   "source": [
    "rawfilecols = rawfile[feature_cols]\n",
    "rawfiletarget = rawfile['No_show']\n",
    "rawfiletarget = to_categorical(rawfiletarget)"
   ]
  },
  {
   "cell_type": "code",
   "execution_count": 5,
   "metadata": {},
   "outputs": [
    {
     "name": "stderr",
     "output_type": "stream",
     "text": [
      "C:\\Users\\PraveenPC\\Anaconda3\\lib\\site-packages\\ipykernel_launcher.py:2: SettingWithCopyWarning: \n",
      "A value is trying to be set on a copy of a slice from a DataFrame.\n",
      "Try using .loc[row_indexer,col_indexer] = value instead\n",
      "\n",
      "See the caveats in the documentation: http://pandas.pydata.org/pandas-docs/stable/indexing.html#indexing-view-versus-copy\n",
      "  \n"
     ]
    }
   ],
   "source": [
    "le = LabelEncoder()\n",
    "rawfilecols['Gender'] = le.fit_transform(rawfilecols.Gender)"
   ]
  },
  {
   "cell_type": "code",
   "execution_count": 6,
   "metadata": {},
   "outputs": [
    {
     "data": {
      "text/plain": [
       "numpy.ndarray"
      ]
     },
     "execution_count": 6,
     "metadata": {},
     "output_type": "execute_result"
    }
   ],
   "source": [
    "type(rawfiletarget)"
   ]
  },
  {
   "cell_type": "code",
   "execution_count": 7,
   "metadata": {
    "collapsed": true
   },
   "outputs": [],
   "source": [
    "model = Sequential()\n",
    "model.add(Dense(20,input_dim = rawfilecols.shape[1], activation = 'sigmoid'))\n",
    "model.add(Dense(10,activation = 'sigmoid'))\n",
    "#model.add(Dense(25,activation='relu'))\n",
    "model.add(Dense(2, activation = 'sigmoid'))\n",
    "#model.summary()\n",
    "\n",
    "model.compile(loss='binary_crossentropy',optimizer = 'adam', metrics = ['accuracy'])"
   ]
  },
  {
   "cell_type": "code",
   "execution_count": 8,
   "metadata": {
    "collapsed": true
   },
   "outputs": [],
   "source": [
    "class history_loss(Callback):\n",
    "    def on_train_begin(self, logs={}):\n",
    "        self.losses = []\n",
    "\n",
    "    def on_batch_end(self, batch, logs={}):\n",
    "        batch_loss = logs.get('loss')\n",
    "        self.losses.append(batch_loss)"
   ]
  },
  {
   "cell_type": "code",
   "execution_count": 9,
   "metadata": {},
   "outputs": [
    {
     "name": "stdout",
     "output_type": "stream",
     "text": [
      "Epoch 1/100\n",
      " - 1s - loss: 0.5775 - acc: 0.7208\n",
      "Epoch 2/100\n",
      " - 1s - loss: 0.5429 - acc: 0.7652\n",
      "Epoch 3/100\n",
      " - 1s - loss: 0.5388 - acc: 0.7652\n",
      "Epoch 4/100\n",
      " - 1s - loss: 0.5366 - acc: 0.7652\n",
      "Epoch 5/100\n",
      " - 1s - loss: 0.5362 - acc: 0.7652\n",
      "Epoch 6/100\n",
      " - 1s - loss: 0.5362 - acc: 0.7652\n",
      "Epoch 7/100\n",
      " - 1s - loss: 0.5361 - acc: 0.7652\n",
      "Epoch 8/100\n",
      " - 1s - loss: 0.5361 - acc: 0.7652\n",
      "Epoch 9/100\n",
      " - 1s - loss: 0.5361 - acc: 0.7652\n",
      "Epoch 10/100\n",
      " - 1s - loss: 0.5361 - acc: 0.7652\n",
      "Epoch 11/100\n",
      " - 1s - loss: 0.5360 - acc: 0.7652\n",
      "Epoch 12/100\n",
      " - 1s - loss: 0.5359 - acc: 0.7652\n",
      "Epoch 13/100\n",
      " - 1s - loss: 0.5359 - acc: 0.7652\n",
      "Epoch 14/100\n",
      " - 1s - loss: 0.5361 - acc: 0.7652\n",
      "Epoch 15/100\n",
      " - 1s - loss: 0.5360 - acc: 0.7652\n",
      "Epoch 16/100\n",
      " - 1s - loss: 0.5360 - acc: 0.7652\n",
      "Epoch 17/100\n",
      " - 1s - loss: 0.5360 - acc: 0.7652\n",
      "Epoch 18/100\n",
      " - 1s - loss: 0.5360 - acc: 0.7652\n",
      "Epoch 19/100\n",
      " - 1s - loss: 0.5359 - acc: 0.7652\n",
      "Epoch 20/100\n",
      " - 1s - loss: 0.5361 - acc: 0.7652\n",
      "Epoch 21/100\n",
      " - 1s - loss: 0.5359 - acc: 0.7652\n",
      "Epoch 22/100\n",
      " - 1s - loss: 0.5360 - acc: 0.7652\n",
      "Epoch 23/100\n",
      " - 1s - loss: 0.5360 - acc: 0.7652\n",
      "Epoch 24/100\n",
      " - 1s - loss: 0.5360 - acc: 0.7652\n",
      "Epoch 25/100\n",
      " - 1s - loss: 0.5360 - acc: 0.7652\n",
      "Epoch 26/100\n",
      " - 1s - loss: 0.5360 - acc: 0.7652\n",
      "Epoch 27/100\n",
      " - 1s - loss: 0.5360 - acc: 0.7652\n",
      "Epoch 28/100\n",
      " - 1s - loss: 0.5359 - acc: 0.7652\n",
      "Epoch 29/100\n",
      " - 1s - loss: 0.5359 - acc: 0.7652\n",
      "Epoch 30/100\n",
      " - 1s - loss: 0.5360 - acc: 0.7652\n",
      "Epoch 31/100\n",
      " - 1s - loss: 0.5359 - acc: 0.7652\n",
      "Epoch 32/100\n",
      " - 1s - loss: 0.5360 - acc: 0.7652\n",
      "Epoch 33/100\n",
      " - 1s - loss: 0.5359 - acc: 0.7652\n",
      "Epoch 34/100\n",
      " - 1s - loss: 0.5358 - acc: 0.7652\n",
      "Epoch 35/100\n",
      " - 1s - loss: 0.5358 - acc: 0.7652\n",
      "Epoch 36/100\n",
      " - 1s - loss: 0.5359 - acc: 0.7652\n",
      "Epoch 37/100\n",
      " - 1s - loss: 0.5358 - acc: 0.7652\n",
      "Epoch 38/100\n",
      " - 1s - loss: 0.5359 - acc: 0.7652\n",
      "Epoch 39/100\n",
      " - 1s - loss: 0.5360 - acc: 0.7652\n",
      "Epoch 40/100\n",
      " - 1s - loss: 0.5357 - acc: 0.7652\n",
      "Epoch 41/100\n",
      " - 1s - loss: 0.5359 - acc: 0.7652\n",
      "Epoch 42/100\n",
      " - 1s - loss: 0.5359 - acc: 0.7652\n",
      "Epoch 43/100\n",
      " - 1s - loss: 0.5358 - acc: 0.7652\n",
      "Epoch 44/100\n",
      " - 1s - loss: 0.5358 - acc: 0.7652\n",
      "Epoch 45/100\n",
      " - 1s - loss: 0.5358 - acc: 0.7652\n",
      "Epoch 46/100\n",
      " - 1s - loss: 0.5358 - acc: 0.7652\n",
      "Epoch 47/100\n",
      " - 1s - loss: 0.5358 - acc: 0.7652\n",
      "Epoch 48/100\n",
      " - 1s - loss: 0.5358 - acc: 0.7652\n",
      "Epoch 49/100\n",
      " - 1s - loss: 0.5358 - acc: 0.7652\n",
      "Epoch 50/100\n",
      " - 1s - loss: 0.5358 - acc: 0.7652\n",
      "Epoch 51/100\n",
      " - 1s - loss: 0.5357 - acc: 0.7652\n",
      "Epoch 52/100\n",
      " - 1s - loss: 0.5358 - acc: 0.7652\n",
      "Epoch 53/100\n",
      " - 1s - loss: 0.5358 - acc: 0.7652\n",
      "Epoch 54/100\n",
      " - 1s - loss: 0.5358 - acc: 0.7652\n",
      "Epoch 55/100\n",
      " - 1s - loss: 0.5358 - acc: 0.7652\n",
      "Epoch 56/100\n",
      " - 1s - loss: 0.5358 - acc: 0.7652\n",
      "Epoch 57/100\n",
      " - 1s - loss: 0.5357 - acc: 0.7652\n",
      "Epoch 58/100\n",
      " - 1s - loss: 0.5358 - acc: 0.7652\n",
      "Epoch 59/100\n",
      " - 1s - loss: 0.5357 - acc: 0.7652\n",
      "Epoch 60/100\n",
      " - 1s - loss: 0.5358 - acc: 0.7652\n",
      "Epoch 61/100\n",
      " - 1s - loss: 0.5357 - acc: 0.7652\n",
      "Epoch 62/100\n",
      " - 1s - loss: 0.5358 - acc: 0.7652\n",
      "Epoch 63/100\n",
      " - 1s - loss: 0.5358 - acc: 0.7652\n",
      "Epoch 64/100\n",
      " - 1s - loss: 0.5357 - acc: 0.7652\n",
      "Epoch 65/100\n",
      " - 1s - loss: 0.5357 - acc: 0.7652\n",
      "Epoch 66/100\n",
      " - 1s - loss: 0.5357 - acc: 0.7652\n",
      "Epoch 67/100\n",
      " - 1s - loss: 0.5357 - acc: 0.7652\n",
      "Epoch 68/100\n",
      " - 1s - loss: 0.5356 - acc: 0.7652\n",
      "Epoch 69/100\n",
      " - 1s - loss: 0.5357 - acc: 0.7652\n",
      "Epoch 70/100\n",
      " - 1s - loss: 0.5357 - acc: 0.7652\n",
      "Epoch 71/100\n",
      " - 1s - loss: 0.5356 - acc: 0.7652\n",
      "Epoch 72/100\n",
      " - 1s - loss: 0.5357 - acc: 0.7652\n",
      "Epoch 73/100\n",
      " - 1s - loss: 0.5357 - acc: 0.7652\n",
      "Epoch 74/100\n",
      " - 1s - loss: 0.5357 - acc: 0.7652\n",
      "Epoch 75/100\n",
      " - 1s - loss: 0.5357 - acc: 0.7652\n",
      "Epoch 76/100\n",
      " - 1s - loss: 0.5357 - acc: 0.7652\n",
      "Epoch 77/100\n",
      " - 1s - loss: 0.5356 - acc: 0.7652\n",
      "Epoch 78/100\n",
      " - 1s - loss: 0.5356 - acc: 0.7652\n",
      "Epoch 79/100\n",
      " - 1s - loss: 0.5357 - acc: 0.7652\n",
      "Epoch 80/100\n",
      " - 1s - loss: 0.5357 - acc: 0.7652\n",
      "Epoch 81/100\n",
      " - 1s - loss: 0.5357 - acc: 0.7652\n",
      "Epoch 82/100\n",
      " - 1s - loss: 0.5356 - acc: 0.7652\n",
      "Epoch 83/100\n",
      " - 1s - loss: 0.5357 - acc: 0.7652\n",
      "Epoch 84/100\n",
      " - 1s - loss: 0.5356 - acc: 0.7652\n",
      "Epoch 85/100\n",
      " - 1s - loss: 0.5356 - acc: 0.7652\n",
      "Epoch 86/100\n",
      " - 1s - loss: 0.5356 - acc: 0.7652\n",
      "Epoch 87/100\n",
      " - 1s - loss: 0.5356 - acc: 0.7652\n",
      "Epoch 88/100\n",
      " - 1s - loss: 0.5355 - acc: 0.7652\n",
      "Epoch 89/100\n",
      " - 1s - loss: 0.5357 - acc: 0.7652\n",
      "Epoch 90/100\n",
      " - 1s - loss: 0.5356 - acc: 0.7652\n",
      "Epoch 91/100\n",
      " - 1s - loss: 0.5355 - acc: 0.7652\n",
      "Epoch 92/100\n",
      " - 1s - loss: 0.5355 - acc: 0.7652\n",
      "Epoch 93/100\n",
      " - 1s - loss: 0.5355 - acc: 0.7652\n",
      "Epoch 94/100\n",
      " - 1s - loss: 0.5356 - acc: 0.7652\n",
      "Epoch 95/100\n",
      " - 1s - loss: 0.5356 - acc: 0.7652\n",
      "Epoch 96/100\n",
      " - 1s - loss: 0.5357 - acc: 0.7652\n",
      "Epoch 97/100\n",
      " - 1s - loss: 0.5355 - acc: 0.7652\n",
      "Epoch 98/100\n",
      " - 1s - loss: 0.5356 - acc: 0.7652\n",
      "Epoch 99/100\n",
      " - 1s - loss: 0.5355 - acc: 0.7652\n",
      "Epoch 100/100\n",
      " - 1s - loss: 0.5356 - acc: 0.7652\n"
     ]
    },
    {
     "data": {
      "text/plain": [
       "<keras.callbacks.History at 0x1ca7639da58>"
      ]
     },
     "execution_count": 9,
     "metadata": {},
     "output_type": "execute_result"
    }
   ],
   "source": [
    "n_epochs = 100\n",
    "batch_size = 100\n",
    "validation_split = 0.2\n",
    "\n",
    "history_relu = history_loss()\n",
    "\n",
    "model.fit(rawfilecols,rawfiletarget, epochs=n_epochs,batch_size=batch_size, callbacks=[history_relu],\n",
    "          verbose = 2)\n"
   ]
  },
  {
   "cell_type": "code",
   "execution_count": null,
   "metadata": {
    "collapsed": true
   },
   "outputs": [],
   "source": []
  }
 ],
 "metadata": {
  "kernelspec": {
   "display_name": "Python 3",
   "language": "python",
   "name": "python3"
  },
  "language_info": {
   "codemirror_mode": {
    "name": "ipython",
    "version": 3
   },
   "file_extension": ".py",
   "mimetype": "text/x-python",
   "name": "python",
   "nbconvert_exporter": "python",
   "pygments_lexer": "ipython3",
   "version": "3.6.3"
  }
 },
 "nbformat": 4,
 "nbformat_minor": 2
}
